{
 "cells": [
  {
   "cell_type": "markdown",
   "id": "d70c242d",
   "metadata": {},
   "source": [
    "## Space Mission Launches<a id='Space Mission Launches'></a>\n",
    "* Content\n",
    "  * [Introduction](##1._Introduction)\n",
    "  * [Import](#2.2_Introduction)"
   ]
  },
  {
   "cell_type": "markdown",
   "id": "e49fbf4e",
   "metadata": {},
   "source": [
    "## 1. Introduction"
   ]
  },
  {
   "cell_type": "markdown",
   "id": "b038655a",
   "metadata": {},
   "source": [
    "About Dataset\n",
    "You'll find an incredibly rich dataset from nextspaceflight.com that includes all the space missions since the beginning of Space Race between the USA and the Soviet Union in 1957! It has data on the mission status (success/failure), the cost of the mission, the number of launches per country, and much much more. There's so much we can learn from this dataset about the dominant organisations and the trends over time. For example:\n",
    "\n",
    "Who launched the most missions in any given year?\n",
    "\n",
    "How has the cost of a space mission varied over time?\n",
    "\n",
    "Which months are the most popular for launches?\n",
    "\n",
    "Have space missions gotten safer or has the chance of failure remained unchanged?\n",
    "\n",
    "This Dataset contains information on dates, costs, and status regarding space missions from different organisations such as NASA, SpaceX, CASC\n",
    "\n",
    "Link to dataset: https://www.kaggle.com/datasets/sefercanapaydn/mission-launches"
   ]
  },
  {
   "cell_type": "markdown",
   "id": "4724db5b",
   "metadata": {},
   "source": [
    "## 2. Import"
   ]
  },
  {
   "cell_type": "code",
   "execution_count": 1,
   "id": "9c71ae84",
   "metadata": {},
   "outputs": [],
   "source": [
    "import pandas as pd\n",
    "import matplotlib.pyplot as plt\n",
    "import seaborn as sns\n"
   ]
  },
  {
   "cell_type": "markdown",
   "id": "eb9dc86b",
   "metadata": {},
   "source": [
    "## 2.1 Load the dataset"
   ]
  },
  {
   "cell_type": "code",
   "execution_count": 2,
   "id": "692c5ea6",
   "metadata": {},
   "outputs": [],
   "source": [
    "data = pd.read_csv('/Users/sangth/Desktop/Space_project /Space_Mission_Launches/Data/mission_launches.csv')"
   ]
  },
  {
   "cell_type": "code",
   "execution_count": null,
   "id": "a473bf9c",
   "metadata": {},
   "outputs": [],
   "source": []
  }
 ],
 "metadata": {
  "kernelspec": {
   "display_name": "Python 3.9.13 ('base')",
   "language": "python",
   "name": "python3"
  },
  "language_info": {
   "codemirror_mode": {
    "name": "ipython",
    "version": 3
   },
   "file_extension": ".py",
   "mimetype": "text/x-python",
   "name": "python",
   "nbconvert_exporter": "python",
   "pygments_lexer": "ipython3",
   "version": "3.9.13"
  },
  "vscode": {
   "interpreter": {
    "hash": "48b71bc540cd0acc4a5cff3b2d8263e022bbde63c646d15e8a8dd6ce6c9dde39"
   }
  }
 },
 "nbformat": 4,
 "nbformat_minor": 5
}
